{
 "cells": [
  {
   "cell_type": "code",
   "execution_count": 1,
   "metadata": {
    "colab": {
     "base_uri": "https://localhost:8080/"
    },
    "id": "hAGBA35PJAXX",
    "outputId": "ac340609-9153-449e-88ff-dbcad5359c6a"
   },
   "outputs": [
    {
     "name": "stdout",
     "output_type": "stream",
     "text": [
      "zsh:1: command not found: nvidia-smi\n"
     ]
    }
   ],
   "source": [
    "!nvidia-smi"
   ]
  },
  {
   "cell_type": "code",
   "execution_count": 2,
   "metadata": {
    "colab": {
     "base_uri": "https://localhost:8080/"
    },
    "id": "lG0VqOg_B-Gt",
    "outputId": "0203cf7b-7ba3-4bc9-bcbd-d07cd88b8602"
   },
   "outputs": [
    {
     "name": "stdout",
     "output_type": "stream",
     "text": [
      "/Users/rudrakshagarwal/FireDetection_YoloV8\n"
     ]
    }
   ],
   "source": [
    "import os\n",
    "HOME = os.getcwd()\n",
    "print(HOME)"
   ]
  },
  {
   "cell_type": "code",
   "execution_count": 3,
   "metadata": {
    "id": "ygBUr6OPAIaC"
   },
   "outputs": [],
   "source": [
    "# !mkdir datasets\n",
    "# %cd datasets\n",
    "# !pip install roboflow\n",
    "\n",
    "# from roboflow import Roboflow\n",
    "# rf = Roboflow(api_key=\"2WNjuUXs8KiBRhS50vWQ\")\n",
    "# project = rf.workspace(\"ai-identificador-de-chama\").project(\"fire-iso9f\")\n",
    "# version = project.version(1)\n",
    "# dataset = version.download(\"yolov8\")\n"
   ]
  },
  {
   "cell_type": "code",
   "execution_count": 4,
   "metadata": {
    "colab": {
     "base_uri": "https://localhost:8080/"
    },
    "id": "WA0VaooPwxNj",
    "outputId": "6a95184d-e3a4-4728-ebfb-53c25052ad9e"
   },
   "outputs": [],
   "source": [
    "# #For importing dataset\n",
    "# !mkdir datasets\n",
    "# %cd datasets\n",
    "\n",
    "# !pip install certifi cycler roboflow --quiet\n",
    "\n",
    "# from roboflow import Roboflow\n",
    "# rf = Roboflow(api_key=\"2WNjuUXs8KiBRhS50vWQ\")\n",
    "# project = rf.workspace(\"ai-identificador-de-chama\").project(\"fire-iso9f\")\n",
    "# version = project.version(1)\n",
    "# dataset = version.download(\"yolov8\")"
   ]
  },
  {
   "cell_type": "code",
   "execution_count": 5,
   "metadata": {
    "colab": {
     "base_uri": "https://localhost:8080/"
    },
    "id": "zpx-OwJYUCLK",
    "outputId": "c5014274-f26c-42de-e02b-622f2a1d903f"
   },
   "outputs": [
    {
     "name": "stdout",
     "output_type": "stream",
     "text": [
      "/Users/rudrakshagarwal/FireDetection_YoloV8\n"
     ]
    }
   ],
   "source": [
    "%cd /{HOME}\n"
   ]
  },
  {
   "cell_type": "code",
   "execution_count": 6,
   "metadata": {
    "colab": {
     "base_uri": "https://localhost:8080/"
    },
    "id": "43-MHkpvJw1K",
    "outputId": "93fd824f-219d-4250-bf20-753ba8d0af01"
   },
   "outputs": [],
   "source": [
    "# #for cloneing ultralytics library\n",
    "# !git clone https://github.com/ultralytics/ultralytics"
   ]
  },
  {
   "cell_type": "code",
   "execution_count": 7,
   "metadata": {
    "colab": {
     "base_uri": "https://localhost:8080/"
    },
    "id": "DoQlfIl4KWOd",
    "outputId": "a59d8da4-6059-4b33-a980-0646b8631b69"
   },
   "outputs": [
    {
     "name": "stdout",
     "output_type": "stream",
     "text": [
      "/Users/rudrakshagarwal/FireDetection_YoloV8/ultralytics\n"
     ]
    }
   ],
   "source": [
    "%cd /{HOME}/ultralytics"
   ]
  },
  {
   "cell_type": "code",
   "execution_count": 8,
   "metadata": {
    "colab": {
     "base_uri": "https://localhost:8080/"
    },
    "id": "1vT_UbxPKbE5",
    "outputId": "16d023d7-dc07-4216-febd-4a37fcdea521"
   },
   "outputs": [
    {
     "name": "stdout",
     "output_type": "stream",
     "text": [
      "Obtaining file:///Users/rudrakshagarwal/FireDetection_YoloV8/ultralytics\n",
      "  Installing build dependencies ... \u001b[?25ldone\n",
      "\u001b[?25h  Checking if build backend supports build_editable ... \u001b[?25ldone\n",
      "\u001b[?25h  Getting requirements to build editable ... \u001b[?25ldone\n",
      "\u001b[?25h  Preparing editable metadata (pyproject.toml) ... \u001b[?25ldone\n",
      "\u001b[?25hRequirement already satisfied: matplotlib>=3.3.0 in /Users/rudrakshagarwal/.pyenv/versions/3.8.15/lib/python3.8/site-packages (from ultralytics==8.1.5) (3.7.4)\n",
      "Requirement already satisfied: numpy>=1.22.2 in /Users/rudrakshagarwal/.pyenv/versions/3.8.15/lib/python3.8/site-packages (from ultralytics==8.1.5) (1.24.4)\n",
      "Requirement already satisfied: opencv-python>=4.6.0 in /Users/rudrakshagarwal/.pyenv/versions/3.8.15/lib/python3.8/site-packages (from ultralytics==8.1.5) (4.9.0.80)\n",
      "Requirement already satisfied: pillow>=7.1.2 in /Users/rudrakshagarwal/.pyenv/versions/3.8.15/lib/python3.8/site-packages (from ultralytics==8.1.5) (10.2.0)\n",
      "Requirement already satisfied: pyyaml>=5.3.1 in /Users/rudrakshagarwal/.pyenv/versions/3.8.15/lib/python3.8/site-packages (from ultralytics==8.1.5) (6.0.1)\n",
      "Requirement already satisfied: requests>=2.23.0 in /Users/rudrakshagarwal/.pyenv/versions/3.8.15/lib/python3.8/site-packages (from ultralytics==8.1.5) (2.31.0)\n",
      "Requirement already satisfied: scipy>=1.4.1 in /Users/rudrakshagarwal/.pyenv/versions/3.8.15/lib/python3.8/site-packages (from ultralytics==8.1.5) (1.10.1)\n",
      "Requirement already satisfied: torch>=1.8.0 in /Users/rudrakshagarwal/.pyenv/versions/3.8.15/lib/python3.8/site-packages (from ultralytics==8.1.5) (2.1.2)\n",
      "Requirement already satisfied: torchvision>=0.9.0 in /Users/rudrakshagarwal/.pyenv/versions/3.8.15/lib/python3.8/site-packages (from ultralytics==8.1.5) (0.16.2)\n",
      "Requirement already satisfied: tqdm>=4.64.0 in /Users/rudrakshagarwal/.pyenv/versions/3.8.15/lib/python3.8/site-packages (from ultralytics==8.1.5) (4.66.1)\n",
      "Requirement already satisfied: psutil in /Users/rudrakshagarwal/.pyenv/versions/3.8.15/lib/python3.8/site-packages (from ultralytics==8.1.5) (5.9.8)\n",
      "Requirement already satisfied: py-cpuinfo in /Users/rudrakshagarwal/.pyenv/versions/3.8.15/lib/python3.8/site-packages (from ultralytics==8.1.5) (9.0.0)\n",
      "Requirement already satisfied: thop>=0.1.1 in /Users/rudrakshagarwal/.pyenv/versions/3.8.15/lib/python3.8/site-packages (from ultralytics==8.1.5) (0.1.1.post2209072238)\n",
      "Requirement already satisfied: pandas>=1.1.4 in /Users/rudrakshagarwal/.pyenv/versions/3.8.15/lib/python3.8/site-packages (from ultralytics==8.1.5) (2.0.3)\n",
      "Requirement already satisfied: seaborn>=0.11.0 in /Users/rudrakshagarwal/.pyenv/versions/3.8.15/lib/python3.8/site-packages (from ultralytics==8.1.5) (0.13.1)\n",
      "Requirement already satisfied: contourpy>=1.0.1 in /Users/rudrakshagarwal/.pyenv/versions/3.8.15/lib/python3.8/site-packages (from matplotlib>=3.3.0->ultralytics==8.1.5) (1.1.1)\n",
      "Requirement already satisfied: cycler>=0.10 in /Users/rudrakshagarwal/.pyenv/versions/3.8.15/lib/python3.8/site-packages (from matplotlib>=3.3.0->ultralytics==8.1.5) (0.12.1)\n",
      "Requirement already satisfied: fonttools>=4.22.0 in /Users/rudrakshagarwal/.pyenv/versions/3.8.15/lib/python3.8/site-packages (from matplotlib>=3.3.0->ultralytics==8.1.5) (4.47.2)\n",
      "Requirement already satisfied: kiwisolver>=1.0.1 in /Users/rudrakshagarwal/.pyenv/versions/3.8.15/lib/python3.8/site-packages (from matplotlib>=3.3.0->ultralytics==8.1.5) (1.4.5)\n",
      "Requirement already satisfied: packaging>=20.0 in /Users/rudrakshagarwal/.pyenv/versions/3.8.15/lib/python3.8/site-packages (from matplotlib>=3.3.0->ultralytics==8.1.5) (23.2)\n",
      "Requirement already satisfied: pyparsing>=2.3.1 in /Users/rudrakshagarwal/.pyenv/versions/3.8.15/lib/python3.8/site-packages (from matplotlib>=3.3.0->ultralytics==8.1.5) (3.1.1)\n",
      "Requirement already satisfied: python-dateutil>=2.7 in /Users/rudrakshagarwal/.pyenv/versions/3.8.15/lib/python3.8/site-packages (from matplotlib>=3.3.0->ultralytics==8.1.5) (2.8.2)\n",
      "Requirement already satisfied: importlib-resources>=3.2.0 in /Users/rudrakshagarwal/.pyenv/versions/3.8.15/lib/python3.8/site-packages (from matplotlib>=3.3.0->ultralytics==8.1.5) (6.1.1)\n",
      "Requirement already satisfied: pytz>=2020.1 in /Users/rudrakshagarwal/.pyenv/versions/3.8.15/lib/python3.8/site-packages (from pandas>=1.1.4->ultralytics==8.1.5) (2023.3.post1)\n",
      "Requirement already satisfied: tzdata>=2022.1 in /Users/rudrakshagarwal/.pyenv/versions/3.8.15/lib/python3.8/site-packages (from pandas>=1.1.4->ultralytics==8.1.5) (2023.4)\n",
      "Requirement already satisfied: charset-normalizer<4,>=2 in /Users/rudrakshagarwal/.pyenv/versions/3.8.15/lib/python3.8/site-packages (from requests>=2.23.0->ultralytics==8.1.5) (3.3.2)\n",
      "Requirement already satisfied: idna<4,>=2.5 in /Users/rudrakshagarwal/.pyenv/versions/3.8.15/lib/python3.8/site-packages (from requests>=2.23.0->ultralytics==8.1.5) (3.6)\n",
      "Requirement already satisfied: urllib3<3,>=1.21.1 in /Users/rudrakshagarwal/.pyenv/versions/3.8.15/lib/python3.8/site-packages (from requests>=2.23.0->ultralytics==8.1.5) (2.1.0)\n",
      "Requirement already satisfied: certifi>=2017.4.17 in /Users/rudrakshagarwal/.pyenv/versions/3.8.15/lib/python3.8/site-packages (from requests>=2.23.0->ultralytics==8.1.5) (2023.11.17)\n",
      "Requirement already satisfied: filelock in /Users/rudrakshagarwal/.pyenv/versions/3.8.15/lib/python3.8/site-packages (from torch>=1.8.0->ultralytics==8.1.5) (3.13.1)\n",
      "Requirement already satisfied: typing-extensions in /Users/rudrakshagarwal/.pyenv/versions/3.8.15/lib/python3.8/site-packages (from torch>=1.8.0->ultralytics==8.1.5) (4.9.0)\n",
      "Requirement already satisfied: sympy in /Users/rudrakshagarwal/.pyenv/versions/3.8.15/lib/python3.8/site-packages (from torch>=1.8.0->ultralytics==8.1.5) (1.12)\n",
      "Requirement already satisfied: networkx in /Users/rudrakshagarwal/.pyenv/versions/3.8.15/lib/python3.8/site-packages (from torch>=1.8.0->ultralytics==8.1.5) (3.1)\n",
      "Requirement already satisfied: jinja2 in /Users/rudrakshagarwal/.pyenv/versions/3.8.15/lib/python3.8/site-packages (from torch>=1.8.0->ultralytics==8.1.5) (3.1.3)\n",
      "Requirement already satisfied: fsspec in /Users/rudrakshagarwal/.pyenv/versions/3.8.15/lib/python3.8/site-packages (from torch>=1.8.0->ultralytics==8.1.5) (2023.12.2)\n",
      "Requirement already satisfied: zipp>=3.1.0 in /Users/rudrakshagarwal/.pyenv/versions/3.8.15/lib/python3.8/site-packages (from importlib-resources>=3.2.0->matplotlib>=3.3.0->ultralytics==8.1.5) (3.17.0)\n",
      "Requirement already satisfied: six>=1.5 in /Users/rudrakshagarwal/.pyenv/versions/3.8.15/lib/python3.8/site-packages (from python-dateutil>=2.7->matplotlib>=3.3.0->ultralytics==8.1.5) (1.16.0)\n",
      "Requirement already satisfied: MarkupSafe>=2.0 in /Users/rudrakshagarwal/.pyenv/versions/3.8.15/lib/python3.8/site-packages (from jinja2->torch>=1.8.0->ultralytics==8.1.5) (2.1.4)\n",
      "Requirement already satisfied: mpmath>=0.19 in /Users/rudrakshagarwal/.pyenv/versions/3.8.15/lib/python3.8/site-packages (from sympy->torch>=1.8.0->ultralytics==8.1.5) (1.3.0)\n",
      "Building wheels for collected packages: ultralytics\n",
      "  Building editable for ultralytics (pyproject.toml) ... \u001b[?25ldone\n",
      "\u001b[?25h  Created wheel for ultralytics: filename=ultralytics-8.1.5-0.editable-py3-none-any.whl size=22647 sha256=8c4346fa8b718f8be33eb2436aa271c7696914b738e7b8f4a4bebf38112b9def\n",
      "  Stored in directory: /private/var/folders/rz/77p23rr93yl03gqs0099s2r40000gn/T/pip-ephem-wheel-cache-j8kyw2tl/wheels/2e/c1/53/2cf024eafecfa3d80581e00bd9def51fe1f86ee1e2fe5641c4\n",
      "Successfully built ultralytics\n",
      "Installing collected packages: ultralytics\n",
      "  Attempting uninstall: ultralytics\n",
      "    Found existing installation: ultralytics 8.1.5\n",
      "    Uninstalling ultralytics-8.1.5:\n",
      "      Successfully uninstalled ultralytics-8.1.5\n",
      "Successfully installed ultralytics-8.1.5\n"
     ]
    }
   ],
   "source": [
    "!pip install -e ."
   ]
  },
  {
   "cell_type": "code",
   "execution_count": 9,
   "metadata": {
    "id": "nk7xRrxMHQwA"
   },
   "outputs": [],
   "source": [
    "# # prompt: unzip a file if its in zip format /content/dataset/data.zip\n",
    "\n",
    "# import zipfile\n",
    "\n",
    "# # Check if the file exists\n",
    "# if os.path.exists('/content/datasets/roboflow.zip'):\n",
    "#   # Open the zip file\n",
    "#   with zipfile.ZipFile('/content/datasets/roboflow.zip', 'r') as zip_ref:\n",
    "#     # Extract the contents of the zip file\n",
    "#     zip_ref.extractall('/content/datasets')\n"
   ]
  },
  {
   "cell_type": "code",
   "execution_count": 10,
   "metadata": {},
   "outputs": [
    {
     "name": "stdout",
     "output_type": "stream",
     "text": [
      "/Users/rudrakshagarwal/FireDetection_YoloV8\n",
      "\u001b[34mdataset_new\u001b[m\u001b[m/  \u001b[34mdataset_old\u001b[m\u001b[m/  \u001b[34multralytics\u001b[m\u001b[m/  yolov8.ipynb\n"
     ]
    }
   ],
   "source": [
    "%cd /{HOME}\n",
    "%ls"
   ]
  },
  {
   "cell_type": "code",
   "execution_count": 31,
   "metadata": {
    "id": "Qwr_APOnWVl5"
   },
   "outputs": [
    {
     "name": "stdout",
     "output_type": "stream",
     "text": [
      "/Users/rudrakshagarwal/FireDetection_YoloV8\n"
     ]
    },
    {
     "ename": "FileNotFoundError",
     "evalue": "[Errno 2] No such file or directory: 'data.yaml'",
     "output_type": "error",
     "traceback": [
      "\u001b[0;31m---------------------------------------------------------------------------\u001b[0m",
      "\u001b[0;31mFileNotFoundError\u001b[0m                         Traceback (most recent call last)",
      "Cell \u001b[0;32mIn[31], line 21\u001b[0m\n\u001b[1;32m      5\u001b[0m new_content \u001b[38;5;241m=\u001b[39m {\n\u001b[1;32m      6\u001b[0m     \u001b[38;5;124m'\u001b[39m\u001b[38;5;124mnames\u001b[39m\u001b[38;5;124m'\u001b[39m: [\u001b[38;5;124m'\u001b[39m\u001b[38;5;124m0\u001b[39m\u001b[38;5;124m'\u001b[39m, \u001b[38;5;124m'\u001b[39m\u001b[38;5;124mfogo-ypXI\u001b[39m\u001b[38;5;124m'\u001b[39m],\n\u001b[1;32m      7\u001b[0m     \u001b[38;5;124m'\u001b[39m\u001b[38;5;124mnc\u001b[39m\u001b[38;5;124m'\u001b[39m: \u001b[38;5;241m2\u001b[39m,\n\u001b[0;32m   (...)\u001b[0m\n\u001b[1;32m     17\u001b[0m     \u001b[38;5;124m'\u001b[39m\u001b[38;5;124mval\u001b[39m\u001b[38;5;124m'\u001b[39m: \u001b[38;5;124m'\u001b[39m\u001b[38;5;124mvalid/images\u001b[39m\u001b[38;5;124m'\u001b[39m\n\u001b[1;32m     18\u001b[0m }\n\u001b[1;32m     20\u001b[0m \u001b[38;5;66;03m# Load the existing YAML file\u001b[39;00m\n\u001b[0;32m---> 21\u001b[0m \u001b[38;5;28;01mwith\u001b[39;00m \u001b[38;5;28;43mopen\u001b[39;49m\u001b[43m(\u001b[49m\u001b[38;5;124;43m'\u001b[39;49m\u001b[38;5;124;43mdata.yaml\u001b[39;49m\u001b[38;5;124;43m'\u001b[39;49m\u001b[43m,\u001b[49m\u001b[43m \u001b[49m\u001b[38;5;124;43m'\u001b[39;49m\u001b[38;5;124;43mr\u001b[39;49m\u001b[38;5;124;43m'\u001b[39;49m\u001b[43m)\u001b[49m \u001b[38;5;28;01mas\u001b[39;00m file:\n\u001b[1;32m     22\u001b[0m     data \u001b[38;5;241m=\u001b[39m yaml\u001b[38;5;241m.\u001b[39msafe_load(file)\n\u001b[1;32m     23\u001b[0m \u001b[38;5;66;03m# FireDetection_YoloV8/dataset_new/data.yaml\u001b[39;00m\n\u001b[1;32m     24\u001b[0m \u001b[38;5;66;03m# Update the data with the new content\u001b[39;00m\n",
      "File \u001b[0;32m~/.pyenv/versions/3.8.15/lib/python3.8/site-packages/IPython/core/interactiveshell.py:284\u001b[0m, in \u001b[0;36m_modified_open\u001b[0;34m(file, *args, **kwargs)\u001b[0m\n\u001b[1;32m    277\u001b[0m \u001b[38;5;28;01mif\u001b[39;00m file \u001b[38;5;129;01min\u001b[39;00m {\u001b[38;5;241m0\u001b[39m, \u001b[38;5;241m1\u001b[39m, \u001b[38;5;241m2\u001b[39m}:\n\u001b[1;32m    278\u001b[0m     \u001b[38;5;28;01mraise\u001b[39;00m \u001b[38;5;167;01mValueError\u001b[39;00m(\n\u001b[1;32m    279\u001b[0m         \u001b[38;5;124mf\u001b[39m\u001b[38;5;124m\"\u001b[39m\u001b[38;5;124mIPython won\u001b[39m\u001b[38;5;124m'\u001b[39m\u001b[38;5;124mt let you open fd=\u001b[39m\u001b[38;5;132;01m{\u001b[39;00mfile\u001b[38;5;132;01m}\u001b[39;00m\u001b[38;5;124m by default \u001b[39m\u001b[38;5;124m\"\u001b[39m\n\u001b[1;32m    280\u001b[0m         \u001b[38;5;124m\"\u001b[39m\u001b[38;5;124mas it is likely to crash IPython. If you know what you are doing, \u001b[39m\u001b[38;5;124m\"\u001b[39m\n\u001b[1;32m    281\u001b[0m         \u001b[38;5;124m\"\u001b[39m\u001b[38;5;124myou can use builtins\u001b[39m\u001b[38;5;124m'\u001b[39m\u001b[38;5;124m open.\u001b[39m\u001b[38;5;124m\"\u001b[39m\n\u001b[1;32m    282\u001b[0m     )\n\u001b[0;32m--> 284\u001b[0m \u001b[38;5;28;01mreturn\u001b[39;00m \u001b[43mio_open\u001b[49m\u001b[43m(\u001b[49m\u001b[43mfile\u001b[49m\u001b[43m,\u001b[49m\u001b[43m \u001b[49m\u001b[38;5;241;43m*\u001b[39;49m\u001b[43margs\u001b[49m\u001b[43m,\u001b[49m\u001b[43m \u001b[49m\u001b[38;5;241;43m*\u001b[39;49m\u001b[38;5;241;43m*\u001b[39;49m\u001b[43mkwargs\u001b[49m\u001b[43m)\u001b[49m\n",
      "\u001b[0;31mFileNotFoundError\u001b[0m: [Errno 2] No such file or directory: 'data.yaml'"
     ]
    }
   ],
   "source": [
    "%cd /{HOME}\n",
    "import yaml\n",
    "\n",
    "# Define the new content\n",
    "new_content = {\n",
    "    'names': ['0', 'fogo-ypXI'],\n",
    "    'nc': 2,\n",
    "    'roboflow': {\n",
    "        'license': 'CC BY 4.0',\n",
    "        'project': 'fire-iso9f',\n",
    "        'url': 'https://universe.roboflow.com/ai-identificador-de-chama/fire-iso9f/dataset/1',\n",
    "        'version': 1,\n",
    "        'workspace': 'ai-identificador-de-chama'\n",
    "    },\n",
    "    'test': 'test/images',\n",
    "    'train': 'train/images',\n",
    "    'val': 'valid/images'\n",
    "}\n",
    "\n",
    "# Load the existing YAML file\n",
    "with open('dataset_new/data.yaml', 'r') as file:\n",
    "    data = yaml.safe_load(file)\n",
    "# FireDetection_YoloV8/dataset_new/data.yaml\n",
    "# Update the data with the new content\n",
    "data.update(new_content)\n",
    "\n",
    "# Write the updated data back to the YAML file\n",
    "with open('dataset_new/data.yaml', 'w') as file:\n",
    "    yaml.dump(data, file)\n"
   ]
  },
  {
   "cell_type": "code",
   "execution_count": null,
   "metadata": {
    "colab": {
     "base_uri": "https://localhost:8080/"
    },
    "editable": true,
    "id": "BzFTBsZUOT4v",
    "outputId": "62e7c234-1a45-438d-af3b-7ff23c8f90b4",
    "slideshow": {
     "slide_type": ""
    },
    "tags": []
   },
   "outputs": [
    {
     "name": "stdout",
     "output_type": "stream",
     "text": [
      "/Users/rudrakshagarwal/FireDetection_YoloV8\n",
      "New https://pypi.org/project/ultralytics/8.1.30 available 😃 Update with 'pip install -U ultralytics'\n",
      "Ultralytics YOLOv8.1.5 🚀 Python-3.8.15 torch-2.1.2 CPU (Apple M1)\n",
      "\u001b[34m\u001b[1mengine/trainer: \u001b[0mtask=detect, mode=train, model=yolov8n.yaml, data=dataset_new/data.yaml, epochs=5, time=None, patience=50, batch=16, imgsz=640, save=True, save_period=-1, cache=False, device=None, workers=8, project=None, name=train36, exist_ok=False, pretrained=True, optimizer=auto, verbose=True, seed=0, deterministic=True, single_cls=False, rect=False, cos_lr=False, close_mosaic=10, resume=False, amp=True, fraction=1.0, profile=False, freeze=None, multi_scale=False, overlap_mask=True, mask_ratio=4, dropout=0.0, val=True, split=val, save_json=False, save_hybrid=False, conf=None, iou=0.7, max_det=300, half=False, dnn=False, plots=True, source=None, vid_stride=1, stream_buffer=False, visualize=False, augment=False, agnostic_nms=False, classes=None, retina_masks=False, embed=None, show=False, save_frames=False, save_txt=False, save_conf=False, save_crop=False, show_labels=True, show_conf=True, show_boxes=True, line_width=None, format=torchscript, keras=False, optimize=False, int8=False, dynamic=False, simplify=False, opset=None, workspace=4, nms=False, lr0=0.01, lrf=0.01, momentum=0.937, weight_decay=0.0005, warmup_epochs=3.0, warmup_momentum=0.8, warmup_bias_lr=0.1, box=7.5, cls=0.5, dfl=1.5, pose=12.0, kobj=1.0, label_smoothing=0.0, nbs=64, hsv_h=0.015, hsv_s=0.7, hsv_v=0.4, degrees=0.0, translate=0.1, scale=0.5, shear=0.0, perspective=0.0, flipud=0.0, fliplr=0.5, mosaic=1.0, mixup=0.0, copy_paste=0.0, auto_augment=randaugment, erasing=0.4, crop_fraction=1.0, cfg=None, tracker=botsort.yaml, save_dir=/Users/rudrakshagarwal/.pyenv/runs/detect/train36\n",
      "Overriding model.yaml nc=80 with nc=2\n",
      "\n",
      "                   from  n    params  module                                       arguments                     \n",
      "  0                  -1  1       464  ultralytics.nn.modules.conv.Conv             [3, 16, 3, 2]                 \n",
      "  1                  -1  1      4672  ultralytics.nn.modules.conv.Conv             [16, 32, 3, 2]                \n",
      "  2                  -1  1      7360  ultralytics.nn.modules.block.C2f             [32, 32, 1, True]             \n",
      "  3                  -1  1     18560  ultralytics.nn.modules.conv.Conv             [32, 64, 3, 2]                \n",
      "  4                  -1  2     49664  ultralytics.nn.modules.block.C2f             [64, 64, 2, True]             \n",
      "  5                  -1  1     73984  ultralytics.nn.modules.conv.Conv             [64, 128, 3, 2]               \n",
      "  6                  -1  2    197632  ultralytics.nn.modules.block.C2f             [128, 128, 2, True]           \n",
      "  7                  -1  1    295424  ultralytics.nn.modules.conv.Conv             [128, 256, 3, 2]              \n",
      "  8                  -1  1    460288  ultralytics.nn.modules.block.C2f             [256, 256, 1, True]           \n",
      "  9                  -1  1    164608  ultralytics.nn.modules.block.SPPF            [256, 256, 5]                 \n",
      " 10                  -1  1         0  torch.nn.modules.upsampling.Upsample         [None, 2, 'nearest']          \n",
      " 11             [-1, 6]  1         0  ultralytics.nn.modules.conv.Concat           [1]                           \n",
      " 12                  -1  1    148224  ultralytics.nn.modules.block.C2f             [384, 128, 1]                 \n",
      " 13                  -1  1         0  torch.nn.modules.upsampling.Upsample         [None, 2, 'nearest']          \n",
      " 14             [-1, 4]  1         0  ultralytics.nn.modules.conv.Concat           [1]                           \n",
      " 15                  -1  1     37248  ultralytics.nn.modules.block.C2f             [192, 64, 1]                  \n",
      " 16                  -1  1     36992  ultralytics.nn.modules.conv.Conv             [64, 64, 3, 2]                \n",
      " 17            [-1, 12]  1         0  ultralytics.nn.modules.conv.Concat           [1]                           \n",
      " 18                  -1  1    123648  ultralytics.nn.modules.block.C2f             [192, 128, 1]                 \n",
      " 19                  -1  1    147712  ultralytics.nn.modules.conv.Conv             [128, 128, 3, 2]              \n",
      " 20             [-1, 9]  1         0  ultralytics.nn.modules.conv.Concat           [1]                           \n",
      " 21                  -1  1    493056  ultralytics.nn.modules.block.C2f             [384, 256, 1]                 \n",
      " 22        [15, 18, 21]  1    751702  ultralytics.nn.modules.head.Detect           [2, [64, 128, 256]]           \n",
      "YOLOv8n summary: 225 layers, 3011238 parameters, 3011222 gradients, 8.2 GFLOPs\n",
      "\n",
      "Freezing layer 'model.22.dfl.conv.weight'\n",
      "\u001b[34m\u001b[1mtrain: \u001b[0mScanning /Users/rudrakshagarwal/FireDetection_YoloV8/dataset_new/train/la\u001b[0m\n",
      "\u001b[34m\u001b[1mtrain: \u001b[0mNew cache created: /Users/rudrakshagarwal/FireDetection_YoloV8/dataset_new/train/labels.cache\n",
      "WARNING ⚠️ Box and segment counts should be equal, but got len(segments) = 1, len(boxes) = 6467. To resolve this only boxes will be used and all segments will be removed. To avoid this please supply either a detect or segment dataset, not a detect-segment mixed dataset.\n",
      "\u001b[34m\u001b[1mval: \u001b[0mScanning /Users/rudrakshagarwal/FireDetection_YoloV8/dataset_new/valid/labe\u001b[0m\n",
      "\u001b[34m\u001b[1mval: \u001b[0mNew cache created: /Users/rudrakshagarwal/FireDetection_YoloV8/dataset_new/valid/labels.cache\n",
      "Plotting labels to /Users/rudrakshagarwal/.pyenv/runs/detect/train36/labels.jpg... \n",
      "\u001b[34m\u001b[1moptimizer:\u001b[0m 'optimizer=auto' found, ignoring 'lr0=0.01' and 'momentum=0.937' and determining best 'optimizer', 'lr0' and 'momentum' automatically... \n",
      "\u001b[34m\u001b[1moptimizer:\u001b[0m AdamW(lr=0.001667, momentum=0.9) with parameter groups 57 weight(decay=0.0), 64 weight(decay=0.0005), 63 bias(decay=0.0)\n",
      "Image sizes 640 train, 640 val\n",
      "Using 0 dataloader workers\n",
      "Logging results to \u001b[1m/Users/rudrakshagarwal/.pyenv/runs/detect/train36\u001b[0m\n",
      "Starting training for 5 epochs...\n",
      "\n",
      "      Epoch    GPU_mem   box_loss   cls_loss   dfl_loss  Instances       Size\n",
      "        1/5         0G      3.479      4.591      4.304         41        640:  "
     ]
    }
   ],
   "source": [
    "%cd /{HOME}\n",
    "!yolo detect train model=yolov8n.yaml data=dataset_new/data.yaml epochs=5 imgsz=640\n",
    "\n"
   ]
  },
  {
   "cell_type": "code",
   "execution_count": 34,
   "metadata": {
    "id": "a70kCCE7OhS9"
   },
   "outputs": [
    {
     "name": "stdout",
     "output_type": "stream",
     "text": [
      "/Users/rudrakshagarwal\n"
     ]
    }
   ],
   "source": [
    "%cd ~"
   ]
  },
  {
   "cell_type": "code",
   "execution_count": 35,
   "metadata": {},
   "outputs": [
    {
     "name": "stdout",
     "output_type": "stream",
     "text": [
      "/Users/rudrakshagarwal/Library/Application Support/Ultralytics\n"
     ]
    }
   ],
   "source": [
    "%cd Library/Application Support/Ultralytics/"
   ]
  },
  {
   "cell_type": "code",
   "execution_count": 36,
   "metadata": {},
   "outputs": [
    {
     "name": "stdout",
     "output_type": "stream",
     "text": [
      "settings.yaml       settings.yaml.save\n"
     ]
    }
   ],
   "source": [
    "%ls\n"
   ]
  },
  {
   "cell_type": "code",
   "execution_count": 37,
   "metadata": {},
   "outputs": [
    {
     "name": "stdout",
     "output_type": "stream",
     "text": [
      "api_key: ''\n",
      "clearml: true\n",
      "comet: true\n",
      "datasets_dir: /Users/rudrakshagarwal/FireDetection_YoloV8/dataset_new\n",
      "dvc: true\n",
      "hub: true\n",
      "mlflow: true\n",
      "neptune: true\n",
      "openai_api_key: ''\n",
      "raytune: true\n",
      "runs_dir: /Users/rudrakshagarwal/.pyenv/runs\n",
      "settings_version: 0.0.4\n",
      "sync: true\n",
      "tensorboard: true\n",
      "uuid: cf364e425b9d2b510e98bb7d9c1b3515c048f15ac8b65372b2cb3c5c52aedad8\n",
      "wandb: true\n",
      "weights_dir: /Users/rudrakshagarwal/.pyenv/weights\n"
     ]
    }
   ],
   "source": [
    "%cat settings.yaml\n"
   ]
  },
  {
   "cell_type": "code",
   "execution_count": 38,
   "metadata": {},
   "outputs": [],
   "source": [
    "# import yaml\n",
    "\n",
    "# Define the new content\n",
    "new_content = {\n",
    "    'settings_version': '0.0.4',\n",
    "    'datasets_dir': '/Users/rudrakshagarwal/FireDetection_YoloV8',\n",
    "    'weights_dir': '/Users/rudrakshagarwal/.pyenv/weights',\n",
    "    'runs_dir': '/Users/rudrakshagarwal/.pyenv/runs',\n",
    "    'uuid': 'cf364e425b9d2b510e98bb7d9c1b3515c048f15ac8b65372b2cb3c5c52aedad8',\n",
    "    'sync': True,\n",
    "    'api_key': '',\n",
    "    'openai_api_key': '',\n",
    "    'clearml': True,\n",
    "    'comet': True,\n",
    "    'dvc': True,\n",
    "    'hub': True,\n",
    "    'mlflow': True,\n",
    "    'neptune': True,\n",
    "    'raytune': True,\n",
    "    'tensorboard': True,\n",
    "    'wandb': True\n",
    "}\n",
    "\n",
    "# Load the existing YAML file\n",
    "with open('settings.yaml', 'r') as file:\n",
    "    data = yaml.safe_load(file)\n",
    "# FireDetection_YoloV8/dataset_new/data.yaml\n",
    "# Update the data with the new content\n",
    "data.update(new_content)\n",
    "\n",
    "# Write the updated data back to the YAML file\n",
    "with open('settings.yaml', 'w') as file:\n",
    "    yaml.dump(data, file)"
   ]
  },
  {
   "cell_type": "code",
   "execution_count": null,
   "metadata": {},
   "outputs": [],
   "source": []
  }
 ],
 "metadata": {
  "accelerator": "GPU",
  "colab": {
   "gpuType": "T4",
   "provenance": []
  },
  "kernelspec": {
   "display_name": "Python 3 (ipykernel)",
   "language": "python",
   "name": "python3"
  },
  "language_info": {
   "codemirror_mode": {
    "name": "ipython",
    "version": 3
   },
   "file_extension": ".py",
   "mimetype": "text/x-python",
   "name": "python",
   "nbconvert_exporter": "python",
   "pygments_lexer": "ipython3",
   "version": "3.8.15"
  }
 },
 "nbformat": 4,
 "nbformat_minor": 4
}
